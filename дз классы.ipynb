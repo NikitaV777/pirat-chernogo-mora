{
 "cells": [
  {
   "cell_type": "code",
   "execution_count": 1,
   "metadata": {},
   "outputs": [],
   "source": [
    "class Person():\n",
    "    def __init__(self,name,surname,age):\n",
    "        self.name = name\n",
    "        self.surname = surname\n",
    "        self.age = age\n",
    "        set(Карл,Джонсон,26)\n",
    "    "
   ]
  },
  {
   "cell_type": "code",
   "execution_count": 2,
   "metadata": {},
   "outputs": [
    {
     "name": "stdout",
     "output_type": "stream",
     "text": [
      "Собака создана\n",
      "Собака создана\n",
      "Собака создана\n",
      "Holland\n",
      "9\n",
      "Ron\n",
      "10\n",
      "lona\n",
      "22\n",
      "Holland Собака прыгнула\n",
      "Ron Собака села\n",
      "Lona Собака гавкнула \n"
     ]
    }
   ],
   "source": [
    "class Dog():\n",
    "    \n",
    "    def __init__ (self, name, age):\n",
    "        self.name = name\n",
    "        self.age = age\n",
    "        print(\"Собака создана\")\n",
    "        \n",
    "    def sit(self):\n",
    "        print(self.name.title() +  \" Собака села\")\n",
    "        \n",
    "    def jump(self):\n",
    "        print(self.name.title() +  \" Собака прыгнула\")\n",
    "        \n",
    "    def gav(self):\n",
    "        print(self.name.title() + \" Собака гавкнула \")\n",
    "        \n",
    "        \n",
    "my_dog = Dog(\"Holland\", 9)\n",
    "my_dog_2 = Dog(\"Ron\", 10)\n",
    "my_dog_3 = Dog(\"lona\", 22)\n",
    "print(my_dog.name)\n",
    "print(my_dog.age)\n",
    "print(my_dog_2.name)\n",
    "print(my_dog_2.age)\n",
    "print(my_dog_3.name)\n",
    "print(my_dog_3.age)\n",
    "\n",
    "\n",
    "my_dog.jump()\n",
    "my_dog_2.sit()\n",
    "my_dog_3.gav()\n",
    "\n"
   ]
  },
  {
   "cell_type": "code",
   "execution_count": null,
   "metadata": {},
   "outputs": [],
   "source": []
  }
 ],
 "metadata": {
  "kernelspec": {
   "display_name": "Python 3",
   "language": "python",
   "name": "python3"
  },
  "language_info": {
   "codemirror_mode": {
    "name": "ipython",
    "version": 3
   },
   "file_extension": ".py",
   "mimetype": "text/x-python",
   "name": "python",
   "nbconvert_exporter": "python",
   "pygments_lexer": "ipython3",
   "version": "3.7.3"
  }
 },
 "nbformat": 4,
 "nbformat_minor": 2
}
